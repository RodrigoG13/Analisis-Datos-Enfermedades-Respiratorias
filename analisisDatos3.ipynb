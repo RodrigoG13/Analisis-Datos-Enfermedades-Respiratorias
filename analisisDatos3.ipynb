{
 "cells": [
  {
   "cell_type": "code",
   "execution_count": 1,
   "metadata": {},
   "outputs": [
    {
     "name": "stderr",
     "output_type": "stream",
     "text": [
      "/tmp/ipykernel_30336/1825246815.py:12: FutureWarning: The argument 'date_parser' is deprecated and will be removed in a future version. Please use 'date_format' instead, or read your data in as 'object' dtype and then call 'to_datetime'.\n",
      "  df = pd.read_csv(fichero_csv, parse_dates=[columna_fecha], date_parser=convertir_a_fecha, index_col=columna_fecha, usecols=columnas_deseadas, encoding='latin1')\n"
     ]
    },
    {
     "name": "stdout",
     "output_type": "stream",
     "text": [
      "               LAT_DECIMAL  LON_DECIMAL\n",
      "FECHA_INGRESO                          \n",
      "2020-01-01       19.482945   -99.113471\n",
      "2020-01-01       19.359004   -99.092622\n",
      "2020-01-01       19.482945   -99.113471\n",
      "2020-01-01       19.390806   -99.195413\n",
      "2020-01-01       19.288275   -99.167125\n",
      "               LAT_DECIMAL  LON_DECIMAL\n",
      "FECHA_INGRESO                          \n",
      "2023-06-22       19.390806   -99.195413\n",
      "2023-06-22       19.350214   -99.162146\n",
      "2023-06-22       19.390806   -99.195413\n",
      "2023-06-22       19.395901   -99.097612\n",
      "2023-06-22       19.419261   -99.113701\n"
     ]
    }
   ],
   "source": [
    "import pandas as pd\n",
    "from sklearn.cluster import KMeans\n",
    "import folium\n",
    "\n",
    "def abrir_csv_con_indice(fichero_csv, columna_fecha, columnas_deseadas=None):\n",
    "\n",
    "    def convertir_a_fecha(fecha):\n",
    "        return pd.to_datetime(fecha, format='%Y-%m-%d')\n",
    "    \n",
    "    try:\n",
    "        if columnas_deseadas:\n",
    "            df = pd.read_csv(fichero_csv, parse_dates=[columna_fecha], date_parser=convertir_a_fecha, index_col=columna_fecha, usecols=columnas_deseadas, encoding='latin1')\n",
    "        else:\n",
    "            df = pd.read_csv(fichero_csv, parse_dates=[columna_fecha], date_parser=convertir_a_fecha, index_col=columna_fecha, encoding='latin1')\n",
    "        \n",
    "        df.sort_index(inplace=True)\n",
    "        \n",
    "        df.dropna(subset=['LAT_DECIMAL', 'LON_DECIMAL'], inplace=True)\n",
    "        \n",
    "        return df\n",
    "    except MemoryError:\n",
    "        print(\"El archivo es demasiado grande para leerlo de una vez. Considera leerlo por chunks.\")\n",
    "        return None\n",
    "\n",
    "\n",
    "archivo_csv = \"pacientesCovid.csv\"\n",
    "fecha_hosp = \"FECHA_INGRESO\"\n",
    "columnas_deseadas = [\"FECHA_INGRESO\", \"LAT_DECIMAL\", \"LON_DECIMAL\"]\n",
    "df_pacientesRespiratorios = abrir_csv_con_indice(archivo_csv, fecha_hosp, columnas_deseadas)\n",
    "\n",
    "\n",
    "if df_pacientesRespiratorios is not None:\n",
    "    print(df_pacientesRespiratorios.head())\n",
    "    print(df_pacientesRespiratorios.tail())\n"
   ]
  },
  {
   "cell_type": "code",
   "execution_count": 2,
   "metadata": {},
   "outputs": [
    {
     "name": "stderr",
     "output_type": "stream",
     "text": [
      "/home/rodrigo/.local/lib/python3.10/site-packages/sklearn/cluster/_kmeans.py:1416: FutureWarning: The default value of `n_init` will change from 10 to 'auto' in 1.4. Set the value of `n_init` explicitly to suppress the warning\n",
      "  super()._check_params_vs_input(X, default_n_init=10)\n"
     ]
    },
    {
     "name": "stdout",
     "output_type": "stream",
     "text": [
      "               LAT_DECIMAL  LON_DECIMAL  Cluster\n",
      "FECHA_INGRESO                                   \n",
      "2020-01-01       19.482945   -99.113471        4\n",
      "2020-01-01       19.359004   -99.092622        3\n",
      "2020-01-01       19.482945   -99.113471        4\n",
      "2020-01-01       19.390806   -99.195413        0\n",
      "2020-01-01       19.288275   -99.167125        2\n"
     ]
    }
   ],
   "source": [
    "kmeans = KMeans(n_clusters=5)\n",
    "\n",
    "etiquetas = kmeans.fit_predict(df_pacientesRespiratorios)\n",
    "\n",
    "df_pacientesRespiratorios['Cluster'] = etiquetas\n",
    "\n",
    "centroides = kmeans.cluster_centers_\n",
    "\n",
    "print(df_pacientesRespiratorios.head())"
   ]
  },
  {
   "cell_type": "code",
   "execution_count": 3,
   "metadata": {},
   "outputs": [
    {
     "name": "stdout",
     "output_type": "stream",
     "text": [
      "Archivo 'unique_points.csv' guardado con éxito.\n"
     ]
    }
   ],
   "source": [
    "unique_points = df_pacientesRespiratorios.drop_duplicates(subset=['LAT_DECIMAL', 'LON_DECIMAL'])\n",
    "unique_points_reset = unique_points.reset_index(drop=True)\n",
    "unique_points_reset.to_csv('unique_points.csv', index=False)\n",
    "\n",
    "print(\"Archivo 'unique_points.csv' guardado con éxito.\")"
   ]
  },
  {
   "cell_type": "code",
   "execution_count": 4,
   "metadata": {},
   "outputs": [],
   "source": [
    "m = folium.Map(location=[df_pacientesRespiratorios['LAT_DECIMAL'].mean(), df_pacientesRespiratorios['LON_DECIMAL'].mean()], zoom_start=10)\n",
    "\n",
    "coordenadas_usadas = set()  # Inicializa un conjunto vacío para almacenar las coordenadas usadas\n",
    "\n",
    "for idx, (i, row) in enumerate(df_pacientesRespiratorios.iterrows()):\n",
    "    coord_actual = (row['LAT_DECIMAL'], row['LON_DECIMAL'])\n",
    "    \n",
    "    if coord_actual not in coordenadas_usadas:\n",
    "        coordenadas_usadas.add(coord_actual)  # Añade las coordenadas actuales al conjunto\n",
    "        \n",
    "        color = 'blue'  # color por defecto\n",
    "        if etiquetas[idx] == 0:\n",
    "            color = 'red'\n",
    "        elif etiquetas[idx] == 1:\n",
    "            color = 'green'\n",
    "        elif etiquetas[idx] == 2:\n",
    "            color = 'orange'\n",
    "        elif etiquetas[idx] == 3:\n",
    "            color = 'purple'\n",
    "        elif etiquetas[idx] == 4:\n",
    "            color = 'black'\n",
    "\n",
    "        folium.CircleMarker(location=[row['LAT_DECIMAL'], row['LON_DECIMAL']], radius=5, color=color, fill=True, fill_color=color).add_to(m)\n",
    "\n",
    "# Añadir centroides al mapa\n",
    "for centroide in centroides:\n",
    "    folium.Marker(location=[centroide[0], centroide[1]], icon=folium.Icon(color='gray')).add_to(m)\n",
    "\n",
    "m.save(\"mapa_clusters.html\")\n"
   ]
  },
  {
   "cell_type": "code",
   "execution_count": 5,
   "metadata": {},
   "outputs": [
    {
     "name": "stdout",
     "output_type": "stream",
     "text": [
      "FECHA_INGRESO  2020-01-05  2020-01-12  2020-01-19  2020-01-26  2020-02-02  \\\n",
      "Cluster                                                                     \n",
      "0                      20          80          77          54          43   \n",
      "1                       3          18          27          26          11   \n",
      "2                      19          75          85          58          64   \n",
      "3                      22          56          60          53          58   \n",
      "4                      44         110         121          98          60   \n",
      "\n",
      "FECHA_INGRESO  2020-02-09  2020-02-16  2020-02-23  2020-03-01  2020-03-08  \\\n",
      "Cluster                                                                     \n",
      "0                      59          46          43          54          82   \n",
      "1                      22          23          28          29          24   \n",
      "2                      74          68          61          71          86   \n",
      "3                      44          34          21          37          64   \n",
      "4                      57          63          58          74          94   \n",
      "\n",
      "FECHA_INGRESO  ...  2023-04-23  2023-04-30  2023-05-07  2023-05-14  \\\n",
      "Cluster        ...                                                   \n",
      "0              ...        1299        1477        1275        1051   \n",
      "1              ...         841         810         696         641   \n",
      "2              ...        1580        1778        1469        1303   \n",
      "3              ...        1482        1623        1399        1191   \n",
      "4              ...        1509        1558        1345        1293   \n",
      "\n",
      "FECHA_INGRESO  2023-05-21  2023-05-28  2023-06-04  2023-06-11  2023-06-18  \\\n",
      "Cluster                                                                     \n",
      "0                    1172         907         736         553         479   \n",
      "1                     563         515         361         303         215   \n",
      "2                    1260        1020         730         532         464   \n",
      "3                    1128         834         725         441         429   \n",
      "4                    1111         928         710         492         503   \n",
      "\n",
      "FECHA_INGRESO  2023-06-25  \n",
      "Cluster                    \n",
      "0                     300  \n",
      "1                     147  \n",
      "2                     269  \n",
      "3                     278  \n",
      "4                     252  \n",
      "\n",
      "[5 rows x 182 columns]\n"
     ]
    }
   ],
   "source": [
    "df_pacientesRespiratorios.index = pd.to_datetime(df_pacientesRespiratorios.index)\n",
    "\n",
    "conteo_semanal_por_cluster = df_pacientesRespiratorios.groupby('Cluster').resample('W').size().unstack(fill_value=0)\n",
    "\n",
    "print(conteo_semanal_por_cluster.head())"
   ]
  },
  {
   "cell_type": "code",
   "execution_count": 6,
   "metadata": {},
   "outputs": [],
   "source": [
    "conteo_semanal_por_cluster.to_csv('clusterSemanal.csv', index=True, date_format='%d-%m-%Y')\n"
   ]
  }
 ],
 "metadata": {
  "kernelspec": {
   "display_name": "Python 3",
   "language": "python",
   "name": "python3"
  },
  "language_info": {
   "codemirror_mode": {
    "name": "ipython",
    "version": 3
   },
   "file_extension": ".py",
   "mimetype": "text/x-python",
   "name": "python",
   "nbconvert_exporter": "python",
   "pygments_lexer": "ipython3",
   "version": "3.10.12"
  }
 },
 "nbformat": 4,
 "nbformat_minor": 2
}
