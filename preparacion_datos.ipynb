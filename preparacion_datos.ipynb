{
 "cells": [
  {
   "cell_type": "code",
   "execution_count": 5,
   "metadata": {},
   "outputs": [],
   "source": [
    "import pandas as pd\n",
    "def crear_sub_dataset(dataframe, columnas):\n",
    "    \"\"\"\n",
    "    Crea un sub-dataset a partir de las columnas especificadas de un DataFrame.\n",
    "\n",
    "    Parámetros:\n",
    "    - dataframe: DataFrame de pandas del cual crear el sub-dataset.\n",
    "    - columnas: Lista de strings con los nombres de las columnas a incluir en el sub-dataset.\n",
    "\n",
    "    Retorna:\n",
    "    - Un nuevo DataFrame que contiene solo las columnas especificadas.\n",
    "    \"\"\"\n",
    "    sub_dataset = dataframe[columnas].copy()\n",
    "    return sub_dataset"
   ]
  },
  {
   "cell_type": "code",
   "execution_count": 6,
   "metadata": {},
   "outputs": [
    {
     "name": "stdout",
     "output_type": "stream",
     "text": [
      "            Cluster  Total_Ingresos_Respiratorios_COVID  Temperatura Promedio  \\\n",
      "FECHA                                                                           \n",
      "2009-01-01        0                                  57             13.648530   \n",
      "2009-02-01        0                                  57             15.066600   \n",
      "2009-03-01        0                                  55             16.869903   \n",
      "2009-04-01        0                                  54             19.393225   \n",
      "2009-05-01        0                                  49             19.056365   \n",
      "\n",
      "            Humedad relativa Promedio  PM25 Promedio  PM10 Promedio  \\\n",
      "FECHA                                                                 \n",
      "2009-01-01                  49.976790      32.982733      63.420657   \n",
      "2009-02-01                  44.776300      30.257325      65.140020   \n",
      "2009-03-01                  38.144447      26.530613      59.954753   \n",
      "2009-04-01                  35.313110      28.113710      60.115315   \n",
      "2009-05-01                  48.142685      26.368620      52.266980   \n",
      "\n",
      "            O3 Promedio  SO2 Promedio  CO Promedio  NO2 Promedio  \\\n",
      "FECHA                                                              \n",
      "2009-01-01    24.645220      6.693280     1.297837     40.352947   \n",
      "2009-02-01    31.666365      7.471940     1.168445     39.830875   \n",
      "2009-03-01    32.359513      4.973420     0.923120     32.876660   \n",
      "2009-04-01    38.535240      3.500090     0.777810     29.322935   \n",
      "2009-05-01    40.783500      3.254835     0.824085     29.960285   \n",
      "\n",
      "            NOX Promedio  NO Promedio  \n",
      "FECHA                                  \n",
      "2009-01-01     82.325843    42.157310  \n",
      "2009-02-01     74.689060    35.074190  \n",
      "2009-03-01     58.760987    26.136703  \n",
      "2009-04-01     48.736530    19.561000  \n",
      "2009-05-01     47.363160    17.593865  \n"
     ]
    }
   ],
   "source": [
    "df_enfermedades = pd.read_csv('datos_cluster_red0.csv', index_col=0, parse_dates=True)\n",
    "print(df_enfermedades.head())"
   ]
  },
  {
   "cell_type": "code",
   "execution_count": null,
   "metadata": {},
   "outputs": [],
   "source": []
  }
 ],
 "metadata": {
  "kernelspec": {
   "display_name": "Python 3",
   "language": "python",
   "name": "python3"
  },
  "language_info": {
   "codemirror_mode": {
    "name": "ipython",
    "version": 3
   },
   "file_extension": ".py",
   "mimetype": "text/x-python",
   "name": "python",
   "nbconvert_exporter": "python",
   "pygments_lexer": "ipython3",
   "version": "3.10.12"
  }
 },
 "nbformat": 4,
 "nbformat_minor": 2
}
